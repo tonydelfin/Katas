{
 "cells": [
  {
   "cell_type": "markdown",
   "metadata": {},
   "source": [
    "Tierra (149.597.870 km) y Júpiter (778.547.200 km)."
   ]
  },
  {
   "cell_type": "code",
   "execution_count": 1,
   "metadata": {},
   "outputs": [
    {
     "name": "stdout",
     "output_type": "stream",
     "text": [
      "628949330\n",
      "390577533.93\n"
     ]
    }
   ],
   "source": [
    "Distancia_Tierra = 149597870\n",
    "Distancia_Jupiter = 778547200\n",
    "\n",
    "Distancia = Distancia_Jupiter - Distancia_Tierra \n",
    "Distancia_millas = Distancia * 0.621\n",
    "print(Distancia)\n",
    "print(Distancia_millas)"
   ]
  },
  {
   "cell_type": "code",
   "execution_count": 5,
   "metadata": {},
   "outputs": [
    {
     "name": "stdout",
     "output_type": "stream",
     "text": [
      "50300000\n",
      "31236300.0\n"
     ]
    }
   ],
   "source": [
    "distancia1 = input(\"Dame la distancia: \")\n",
    "distancia2 = input(\"Dame la distancia: \")\n",
    "\n",
    "D1 = int(distancia1)\n",
    "D2 = int(distancia2)\n",
    "\n",
    "Distancia_total = D2- D1\n",
    "\n",
    "print(Distancia_total)\n",
    "\n",
    "Distancia_millas = Distancia_total * 0.621\n",
    "\n",
    "print(abs(Distancia_millas))"
   ]
  }
 ],
 "metadata": {
  "interpreter": {
   "hash": "2be5faf79681da6f2a61fdfdd5405d65d042280f7fba6178067603e3a2925119"
  },
  "kernelspec": {
   "display_name": "Python 3.10.2 64-bit",
   "language": "python",
   "name": "python3"
  },
  "language_info": {
   "codemirror_mode": {
    "name": "ipython",
    "version": 3
   },
   "file_extension": ".py",
   "mimetype": "text/x-python",
   "name": "python",
   "nbconvert_exporter": "python",
   "pygments_lexer": "ipython3",
   "version": "3.10.2"
  },
  "orig_nbformat": 4
 },
 "nbformat": 4,
 "nbformat_minor": 2
}
