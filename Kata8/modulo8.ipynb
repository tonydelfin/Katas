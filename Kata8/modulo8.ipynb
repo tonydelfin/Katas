{
 "cells": [
  {
   "cell_type": "code",
   "execution_count": 12,
   "metadata": {},
   "outputs": [
    {
     "name": "stdout",
     "output_type": "stream",
     "text": [
      "Marte tiene un total de: 2 Lunas\n",
      "El planeta: Marte tiene una circunferencia de 6752\n"
     ]
    }
   ],
   "source": [
    "planeta = {\n",
    "    \"Nombre\": \"Marte\",\n",
    "    \"lunas\": 2\n",
    "\n",
    "}\n",
    "\n",
    "print(f'{planeta[\"Nombre\"]} tiene un total de: {planeta[\"lunas\"]} Lunas')\n",
    "\n",
    "planeta[\"Circunferencia \"] = {\n",
    "    \"polar\": 6752,\n",
    "    \"equatorial\": 6792\n",
    "}\n",
    "print(f'El planeta: {planeta[\"Nombre\"]} tiene una circunferencia de {planeta[\"Circunferencia \"][\"polar\"]}')"
   ]
  }
 ],
 "metadata": {
  "interpreter": {
   "hash": "2be5faf79681da6f2a61fdfdd5405d65d042280f7fba6178067603e3a2925119"
  },
  "kernelspec": {
   "display_name": "Python 3.10.2 64-bit",
   "language": "python",
   "name": "python3"
  },
  "language_info": {
   "codemirror_mode": {
    "name": "ipython",
    "version": 3
   },
   "file_extension": ".py",
   "mimetype": "text/x-python",
   "name": "python",
   "nbconvert_exporter": "python",
   "pygments_lexer": "ipython3",
   "version": "3.10.2"
  },
  "orig_nbformat": 4
 },
 "nbformat": 4,
 "nbformat_minor": 2
}
