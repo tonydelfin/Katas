{
 "cells": [
  {
   "cell_type": "code",
   "execution_count": null,
   "metadata": {},
   "outputs": [],
   "source": [
    "def reporte(tanque1, tanque2, tanque3):\n",
    "    Contenido = (tanque1 + tanque2 + tanque3)/3\n",
    "\n",
    "    return f\"\"\"Reporte de Tanques:\n",
    "    Tanque 1: {tanque1}\n",
    "    Tanque 2: {tanque2}\n",
    "    Tanque 3: {tanque3}\n",
    "    El promedio es: {Contenido}\n",
    "    \"\"\"\n",
    "\n",
    "print(reporte(80, 70, 85))\n",
    "\n",
    "def promedio(valores):\n",
    "    total =sum(valores)\n",
    "    objetos=  len(valores)\n",
    "    return total/objetos\n",
    "\n",
    "promedio([80, 85, 81])\n",
    "\n",
    "def reporte(tanque1, tanque2, tanque3):\n",
    "    return f\"\"\"Reporte de Tanques:\n",
    "    Tanque 1: {tanque1}\n",
    "    Tanque 2: {tanque2}\n",
    "    Tanque 3: {tanque3}\n",
    "    El promedio es: {promedio([tanque1, tanque2, tanque3])}\n",
    "    \"\"\"\n",
    "print(reporte(88, 76, 70))"
   ]
  },
  {
   "cell_type": "code",
   "execution_count": 26,
   "metadata": {},
   "outputs": [
    {
     "name": "stdout",
     "output_type": "stream",
     "text": [
      "Infrome\n",
      "    Destino: luna\n",
      "    Tiempo de vuelo: 65 minutos viajando\n",
      "    Conbustible disponible: 500000 litros de conbustible\n",
      "Infrome\n",
      "    Destino: luna\n",
      "    Tiempo de vuelo: 76 minutos viajando\n",
      "    Conbustible disponible: 500000 litros de conbustible\n",
      " REPORTE\n",
      "     Destino: Luna\n",
      "    Tiempo de vuelo: 74 minutos viajando\n",
      "    Conbustible disponible: 500000 litros de conbustible\n",
      "    tanque_interno tiene:  300000 en total \n"
     ]
    }
   ],
   "source": [
    "def informe_mision(hora_lanzamiento,tiepo_vuelo,destino,tanque_externo,tanque_interno):\n",
    "    return f\"\"\"Infrome\n",
    "    Destino: {destino}\n",
    "    Tiempo de vuelo: {hora_lanzamiento + tiepo_vuelo} minutos viajando\n",
    "    Conbustible disponible: { tanque_externo + tanque_interno} litros de conbustible\"\"\"\n",
    "\n",
    "print(informe_mision(14,51 , \"luna\", 200000, 300000))\n",
    "\n",
    "def informe_mision(destino, *minutos, **deposito):\n",
    "    return f\"\"\"Infrome\n",
    "    Destino: {destino}\n",
    "    Tiempo de vuelo: {sum(minutos)} minutos viajando\n",
    "    Conbustible disponible: {sum(deposito.values())} litros de conbustible\"\"\"\n",
    "\n",
    "print(informe_mision(\"luna\", 10, 15, 51, tanque_interno=300000, tanque_externo=200000))\n",
    "\n",
    "\n",
    "\n",
    "def informe_mision(destino, *minutos, **deposito):\n",
    "    reporte_global = f\"\"\" REPORTE\n",
    "     Destino: {destino}\n",
    "    Tiempo de vuelo: {sum(minutos)} minutos viajando\n",
    "    Conbustible disponible: {sum(deposito.values())} litros de conbustible\n",
    "    \"\"\"\n",
    "    for tanque, litros in deposito.items():\n",
    "        reporte_global += f\"{tanque} tiene:  {litros} en total \"\n",
    "        return reporte_global\n",
    "\n",
    "print(informe_mision(\"Luna\", 8,11,55, tanque_interno=300000, tanque_externo=200000))\n",
    "\n"
   ]
  }
 ],
 "metadata": {
  "interpreter": {
   "hash": "2be5faf79681da6f2a61fdfdd5405d65d042280f7fba6178067603e3a2925119"
  },
  "kernelspec": {
   "display_name": "Python 3.10.2 64-bit",
   "language": "python",
   "name": "python3"
  },
  "language_info": {
   "codemirror_mode": {
    "name": "ipython",
    "version": 3
   },
   "file_extension": ".py",
   "mimetype": "text/x-python",
   "name": "python",
   "nbconvert_exporter": "python",
   "pygments_lexer": "ipython3",
   "version": "3.10.2"
  },
  "orig_nbformat": 4
 },
 "nbformat": 4,
 "nbformat_minor": 2
}
