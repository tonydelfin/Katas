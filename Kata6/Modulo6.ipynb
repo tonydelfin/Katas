{
 "cells": [
  {
   "cell_type": "code",
   "execution_count": null,
   "metadata": {},
   "outputs": [],
   "source": [
    "planetas = [\"Jupiter\", \"Tierra\", \"Urano\", \"Neptuno\", \"Saturno\", \"Marte\",\"Mercurio\", \"Venus\"]\n",
    "\n",
    "print(\"El todal de los planetas en la lista son:\", len(planetas))\n",
    "\n",
    "planetas.append('Plutón')\n",
    "\n",
    "print(\"El ultimo planta agregado ala lista es:\", planetas[-1])"
   ]
  },
  {
   "cell_type": "code",
   "execution_count": 22,
   "metadata": {},
   "outputs": [
    {
     "name": "stdout",
     "output_type": "stream",
     "text": [
      "Los planetas mas cercanos a Venus son: \n",
      "['Mercurio']\n",
      "Los planetas mas lejanos a Venus son: \n",
      "['Tierra', 'Marte', 'Jupiter', 'Saturno', 'Neptuno']\n"
     ]
    }
   ],
   "source": [
    "planetas = [\"Mercurio\", \"Venus\", \"Tierra\", \"Marte\", \"Jupiter\", \"Saturno\", \"Neptuno\"]\n",
    "\n",
    "Planeta_ingresado = input(\"Ingrese el nombre de un planeta: \")\n",
    "Planeta_buscado = planetas.index(Planeta_ingresado)\n",
    "print(\"Los planetas mas cercanos a \" + Planeta_ingresado + \" son: \")\n",
    "print( planetas[0:Planeta_buscado])\n",
    "print(\"Los planetas mas lejanos a \" + Planeta_ingresado + \" son: \")\n",
    "print( planetas[Planeta_buscado + 1:])\n"
   ]
  }
 ],
 "metadata": {
  "interpreter": {
   "hash": "2be5faf79681da6f2a61fdfdd5405d65d042280f7fba6178067603e3a2925119"
  },
  "kernelspec": {
   "display_name": "Python 3.10.2 64-bit",
   "language": "python",
   "name": "python3"
  },
  "language_info": {
   "codemirror_mode": {
    "name": "ipython",
    "version": 3
   },
   "file_extension": ".py",
   "mimetype": "text/x-python",
   "name": "python",
   "nbconvert_exporter": "python",
   "pygments_lexer": "ipython3",
   "version": "3.10.2"
  },
  "orig_nbformat": 4
 },
 "nbformat": 4,
 "nbformat_minor": 2
}
